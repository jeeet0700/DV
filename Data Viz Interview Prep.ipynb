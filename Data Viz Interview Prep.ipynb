{
 "cells": [
  {
   "cell_type": "code",
   "execution_count": 10,
   "id": "c4cf39ac",
   "metadata": {},
   "outputs": [],
   "source": [
    "import matplotlib.pyplot as plt\n",
    "import pandas as pd"
   ]
  },
  {
   "cell_type": "code",
   "execution_count": 2,
   "id": "a6e3d12a",
   "metadata": {},
   "outputs": [
    {
     "data": {
      "text/plain": [
       "[<matplotlib.lines.Line2D at 0x7fd6b7591220>]"
      ]
     },
     "execution_count": 2,
     "metadata": {},
     "output_type": "execute_result"
    },
    {
     "data": {
      "image/png": "[encoded data removed]",
      "text/plain": [
       "<Figure size 640x480 with 1 Axes>"
      ]
     },
     "metadata": {},
     "output_type": "display_data"
    }
   ],
   "source": [
    "x=[1,2,3,4]\n",
    "y=[6,7,8,9]\n",
    "plt.plot(x,y)"
   ]
  },
  {
   "cell_type": "code",
   "execution_count": 3,
   "id": "0c80c9f1",
   "metadata": {},
   "outputs": [
    {
     "name": "stdout",
     "output_type": "stream",
     "text": [
      "DV.ipynb\r\n",
      "Data Viz Interview Prep.ipynb\r\n",
      "Descriptive Stat.ipynb\r\n",
      "Gaussian Distribution.ipynb\r\n",
      "NPS.ipynb\r\n",
      "Netflix project II.ipynb\r\n",
      "Netflix project.ipynb\r\n",
      "Numpy Airbnb NPS final .ipynb\r\n",
      "\u001b[34mNumpy Pandas\u001b[m\u001b[m/\r\n",
      "Numpy_Interview_Prep.ipynb\r\n",
      "Panda_interview_prep.ipynb\r\n",
      "Pandas Revision.ipynb\r\n",
      "Pandas final cut.ipynb\r\n",
      "Pfizer_1.csv\r\n",
      "\u001b[34mProb and Stat\u001b[m\u001b[m/\r\n",
      "Python Lib Rivision.ipynb\r\n",
      "Python revision.ipynb\r\n",
      "\u001b[34mSQL\u001b[m\u001b[m/\r\n",
      "These Are the 25 Smartest Dog Breeds, According to Science.jpeg\r\n",
      "Think Stats, 2nd Edition_ Exploratory Data Analysis ( PDFDrive ).pdf\r\n",
      "Untitled.ipynb\r\n",
      "clouds-2627945.jpg\r\n",
      "directors.csv\r\n",
      "figure.png\r\n",
      "final_vg.csv\r\n",
      "fit.txt\r\n",
      "gapminder.csv\r\n",
      "jupyterthemes.ipynb\r\n",
      "mckinsey.csv\r\n",
      "movies.csv\r\n",
      "sales.csv\r\n",
      "storytelling-with-data-cole-nussbaumer-knaflic.pdf\r\n",
      "survey.txt\r\n"
     ]
    }
   ],
   "source": [
    "ls"
   ]
  },
  {
   "cell_type": "code",
   "execution_count": 5,
   "id": "b99d2abb",
   "metadata": {},
   "outputs": [
    {
     "name": "stdout",
     "output_type": "stream",
     "text": [
      "Access denied with the following error:\r\n",
      "\r\n",
      " \tCannot retrieve the public link of the file. You may need to change\r\n",
      "\tthe permission to 'Anyone with the link', or have had many accesses. \r\n",
      "\r\n",
      "You may still be able to access the file from the browser:\r\n",
      "\r\n",
      "\t https://drive.google.com/uc?id=F6sKZ0cIJgvodUq09ZnwALQ02 \r\n",
      "\r\n"
     ]
    }
   ],
   "source": [
    "!gdown F6sKZ0cIJgvodUq09ZnwALQ02"
   ]
  },
  {
   "cell_type": "code",
   "execution_count": 6,
   "id": "b8ed498e",
   "metadata": {},
   "outputs": [
    {
     "name": "stdout",
     "output_type": "stream",
     "text": [
      "Access denied with the following error:\r\n",
      "\r\n",
      " \tCannot retrieve the public link of the file. You may need to change\r\n",
      "\tthe permission to 'Anyone with the link', or have had many accesses. \r\n",
      "\r\n",
      "You may still be able to access the file from the browser:\r\n",
      "\r\n",
      "\t https://drive.google.com/uc?id=1bNPear-F6sKZ0cIJgvodUq09ZnwALQ02 \r\n",
      "\r\n"
     ]
    }
   ],
   "source": [
    "!gdown 1bNPear-F6sKZ0cIJgvodUq09ZnwALQ02"
   ]
  },
  {
   "cell_type": "code",
   "execution_count": 7,
   "id": "749c58d1",
   "metadata": {},
   "outputs": [
    {
     "name": "stdout",
     "output_type": "stream",
     "text": [
      "/Users/jitendranathmahato/opt/anaconda3/lib/python3.9/site-packages/gdown/parse_url.py:44: UserWarning: You specified a Google Drive link that is not the correct link to download a file. You might want to try `--fuzzy` option or the following url: https://drive.google.com/uc?id=None\n",
      "  warnings.warn(\n",
      "Downloading...\n",
      "From: https://drive.google.com/drive/folders/1bNPear-F6sKZ0cIJgvodUq09ZnwALQ02\n",
      "To: /Users/jitendranathmahato/Downloads/Scaler/1bNPear-F6sKZ0cIJgvodUq09ZnwALQ02\n",
      "298kB [00:00, 511MB/s]\n"
     ]
    }
   ],
   "source": [
    "!gdown https://drive.google.com/drive/folders/1bNPear-F6sKZ0cIJgvodUq09ZnwALQ02"
   ]
  },
  {
   "cell_type": "code",
   "execution_count": 8,
   "id": "416fe310",
   "metadata": {},
   "outputs": [
    {
     "name": "stdout",
     "output_type": "stream",
     "text": [
      "1bNPear-F6sKZ0cIJgvodUq09ZnwALQ02\r\n",
      "DV.ipynb\r\n",
      "Data Viz Interview Prep.ipynb\r\n",
      "Descriptive Stat.ipynb\r\n",
      "Gaussian Distribution.ipynb\r\n",
      "NPS.ipynb\r\n",
      "Netflix project II.ipynb\r\n",
      "Netflix project.ipynb\r\n",
      "Numpy Airbnb NPS final .ipynb\r\n",
      "\u001b[34mNumpy Pandas\u001b[m\u001b[m/\r\n",
      "Numpy_Interview_Prep.ipynb\r\n",
      "Panda_interview_prep.ipynb\r\n",
      "Pandas Revision.ipynb\r\n",
      "Pandas final cut.ipynb\r\n",
      "Pfizer_1.csv\r\n",
      "\u001b[34mProb and Stat\u001b[m\u001b[m/\r\n",
      "Python Lib Rivision.ipynb\r\n",
      "Python revision.ipynb\r\n",
      "\u001b[34mSQL\u001b[m\u001b[m/\r\n",
      "These Are the 25 Smartest Dog Breeds, According to Science.jpeg\r\n",
      "Think Stats, 2nd Edition_ Exploratory Data Analysis ( PDFDrive ).pdf\r\n",
      "Untitled.ipynb\r\n",
      "clouds-2627945.jpg\r\n",
      "directors.csv\r\n",
      "figure.png\r\n",
      "final_vg.csv\r\n",
      "fit.txt\r\n",
      "gapminder.csv\r\n",
      "jupyterthemes.ipynb\r\n",
      "mckinsey.csv\r\n",
      "movies.csv\r\n",
      "sales.csv\r\n",
      "storytelling-with-data-cole-nussbaumer-knaflic.pdf\r\n",
      "survey.txt\r\n"
     ]
    }
   ],
   "source": [
    "ls"
   ]
  },
  {
   "cell_type": "code",
   "execution_count": 12,
   "id": "6da2a682",
   "metadata": {},
   "outputs": [
    {
     "data": {
      "text/html": [
       "<div>\n",
       "<style scoped>\n",
       "    .dataframe tbody tr th:only-of-type {\n",
       "        vertical-align: middle;\n",
       "    }\n",
       "\n",
       "    .dataframe tbody tr th {\n",
       "        vertical-align: top;\n",
       "    }\n",
       "\n",
       "    .dataframe thead th {\n",
       "        text-align: right;\n",
       "    }\n",
       "</style>\n",
       "<table border=\"1\" class=\"dataframe\">\n",
       "  <thead>\n",
       "    <tr style=\"text-align: right;\">\n",
       "      <th></th>\n",
       "      <th>Rank</th>\n",
       "      <th>Name</th>\n",
       "      <th>Platform</th>\n",
       "      <th>Year</th>\n",
       "      <th>Genre</th>\n",
       "      <th>Publisher</th>\n",
       "      <th>NA_Sales</th>\n",
       "      <th>EU_Sales</th>\n",
       "      <th>JP_Sales</th>\n",
       "      <th>Other_Sales</th>\n",
       "      <th>Global_Sales</th>\n",
       "    </tr>\n",
       "  </thead>\n",
       "  <tbody>\n",
       "    <tr>\n",
       "      <th>0</th>\n",
       "      <td>2061</td>\n",
       "      <td>1942</td>\n",
       "      <td>NES</td>\n",
       "      <td>1985.0</td>\n",
       "      <td>Shooter</td>\n",
       "      <td>Capcom</td>\n",
       "      <td>4.569217</td>\n",
       "      <td>3.033887</td>\n",
       "      <td>3.439352</td>\n",
       "      <td>1.991671</td>\n",
       "      <td>12.802935</td>\n",
       "    </tr>\n",
       "    <tr>\n",
       "      <th>1</th>\n",
       "      <td>9137</td>\n",
       "      <td>¡Shin Chan Flipa en colores!</td>\n",
       "      <td>DS</td>\n",
       "      <td>2007.0</td>\n",
       "      <td>Platform</td>\n",
       "      <td>505 Games</td>\n",
       "      <td>2.076955</td>\n",
       "      <td>1.493442</td>\n",
       "      <td>3.033887</td>\n",
       "      <td>0.394830</td>\n",
       "      <td>7.034163</td>\n",
       "    </tr>\n",
       "    <tr>\n",
       "      <th>2</th>\n",
       "      <td>14279</td>\n",
       "      <td>.hack: Sekai no Mukou ni + Versus</td>\n",
       "      <td>PS3</td>\n",
       "      <td>2012.0</td>\n",
       "      <td>Action</td>\n",
       "      <td>Namco Bandai Games</td>\n",
       "      <td>1.145709</td>\n",
       "      <td>1.762339</td>\n",
       "      <td>1.493442</td>\n",
       "      <td>0.408693</td>\n",
       "      <td>4.982552</td>\n",
       "    </tr>\n",
       "    <tr>\n",
       "      <th>3</th>\n",
       "      <td>8359</td>\n",
       "      <td>.hack//G.U. Vol.1//Rebirth</td>\n",
       "      <td>PS2</td>\n",
       "      <td>2006.0</td>\n",
       "      <td>Role-Playing</td>\n",
       "      <td>Namco Bandai Games</td>\n",
       "      <td>2.031986</td>\n",
       "      <td>1.389856</td>\n",
       "      <td>3.228043</td>\n",
       "      <td>0.394830</td>\n",
       "      <td>7.226880</td>\n",
       "    </tr>\n",
       "    <tr>\n",
       "      <th>4</th>\n",
       "      <td>7109</td>\n",
       "      <td>.hack//G.U. Vol.2//Reminisce</td>\n",
       "      <td>PS2</td>\n",
       "      <td>2006.0</td>\n",
       "      <td>Role-Playing</td>\n",
       "      <td>Namco Bandai Games</td>\n",
       "      <td>2.792725</td>\n",
       "      <td>2.592054</td>\n",
       "      <td>1.440483</td>\n",
       "      <td>1.493442</td>\n",
       "      <td>8.363113</td>\n",
       "    </tr>\n",
       "    <tr>\n",
       "      <th>...</th>\n",
       "      <td>...</td>\n",
       "      <td>...</td>\n",
       "      <td>...</td>\n",
       "      <td>...</td>\n",
       "      <td>...</td>\n",
       "      <td>...</td>\n",
       "      <td>...</td>\n",
       "      <td>...</td>\n",
       "      <td>...</td>\n",
       "      <td>...</td>\n",
       "      <td>...</td>\n",
       "    </tr>\n",
       "    <tr>\n",
       "      <th>16647</th>\n",
       "      <td>7925</td>\n",
       "      <td>Zumba Fitness Rush</td>\n",
       "      <td>X360</td>\n",
       "      <td>2012.0</td>\n",
       "      <td>Sports</td>\n",
       "      <td>505 Games</td>\n",
       "      <td>4.409308</td>\n",
       "      <td>3.167419</td>\n",
       "      <td>4.168474</td>\n",
       "      <td>1.087977</td>\n",
       "      <td>13.053204</td>\n",
       "    </tr>\n",
       "    <tr>\n",
       "      <th>16648</th>\n",
       "      <td>6279</td>\n",
       "      <td>Zumba Fitness: World Party</td>\n",
       "      <td>Wii</td>\n",
       "      <td>2013.0</td>\n",
       "      <td>Misc</td>\n",
       "      <td>Majesco Entertainment</td>\n",
       "      <td>3.033887</td>\n",
       "      <td>2.792725</td>\n",
       "      <td>1.596852</td>\n",
       "      <td>1.493442</td>\n",
       "      <td>8.878837</td>\n",
       "    </tr>\n",
       "    <tr>\n",
       "      <th>16649</th>\n",
       "      <td>6977</td>\n",
       "      <td>Zumba Fitness: World Party</td>\n",
       "      <td>XOne</td>\n",
       "      <td>2013.0</td>\n",
       "      <td>Misc</td>\n",
       "      <td>Majesco Entertainment</td>\n",
       "      <td>3.228043</td>\n",
       "      <td>2.004268</td>\n",
       "      <td>1.833151</td>\n",
       "      <td>1.087977</td>\n",
       "      <td>7.954274</td>\n",
       "    </tr>\n",
       "    <tr>\n",
       "      <th>16650</th>\n",
       "      <td>15422</td>\n",
       "      <td>Zwei!!</td>\n",
       "      <td>PSP</td>\n",
       "      <td>2008.0</td>\n",
       "      <td>Role-Playing</td>\n",
       "      <td>Falcom Corporation</td>\n",
       "      <td>1.087977</td>\n",
       "      <td>0.592445</td>\n",
       "      <td>1.087977</td>\n",
       "      <td>0.394830</td>\n",
       "      <td>3.509168</td>\n",
       "    </tr>\n",
       "    <tr>\n",
       "      <th>16651</th>\n",
       "      <td>12919</td>\n",
       "      <td>Zyuden Sentai Kyoryuger: Game de Gaburincho!!</td>\n",
       "      <td>3DS</td>\n",
       "      <td>2013.0</td>\n",
       "      <td>Action</td>\n",
       "      <td>Namco Bandai Games</td>\n",
       "      <td>1.081046</td>\n",
       "      <td>1.714664</td>\n",
       "      <td>2.004268</td>\n",
       "      <td>0.394830</td>\n",
       "      <td>5.132196</td>\n",
       "    </tr>\n",
       "  </tbody>\n",
       "</table>\n",
       "<p>16652 rows × 11 columns</p>\n",
       "</div>"
      ],
      "text/plain": [
       "        Rank                                           Name Platform    Year  \\\n",
       "0       2061                                           1942      NES  1985.0   \n",
       "1       9137                   ¡Shin Chan Flipa en colores!       DS  2007.0   \n",
       "2      14279              .hack: Sekai no Mukou ni + Versus      PS3  2012.0   \n",
       "3       8359                     .hack//G.U. Vol.1//Rebirth      PS2  2006.0   \n",
       "4       7109                   .hack//G.U. Vol.2//Reminisce      PS2  2006.0   \n",
       "...      ...                                            ...      ...     ...   \n",
       "16647   7925                             Zumba Fitness Rush     X360  2012.0   \n",
       "16648   6279                     Zumba Fitness: World Party      Wii  2013.0   \n",
       "16649   6977                     Zumba Fitness: World Party     XOne  2013.0   \n",
       "16650  15422                                         Zwei!!      PSP  2008.0   \n",
       "16651  12919  Zyuden Sentai Kyoryuger: Game de Gaburincho!!      3DS  2013.0   \n",
       "\n",
       "              Genre              Publisher  NA_Sales  EU_Sales  JP_Sales  \\\n",
       "0           Shooter                 Capcom  4.569217  3.033887  3.439352   \n",
       "1          Platform              505 Games  2.076955  1.493442  3.033887   \n",
       "2            Action     Namco Bandai Games  1.145709  1.762339  1.493442   \n",
       "3      Role-Playing     Namco Bandai Games  2.031986  1.389856  3.228043   \n",
       "4      Role-Playing     Namco Bandai Games  2.792725  2.592054  1.440483   \n",
       "...             ...                    ...       ...       ...       ...   \n",
       "16647        Sports              505 Games  4.409308  3.167419  4.168474   \n",
       "16648          Misc  Majesco Entertainment  3.033887  2.792725  1.596852   \n",
       "16649          Misc  Majesco Entertainment  3.228043  2.004268  1.833151   \n",
       "16650  Role-Playing     Falcom Corporation  1.087977  0.592445  1.087977   \n",
       "16651        Action     Namco Bandai Games  1.081046  1.714664  2.004268   \n",
       "\n",
       "       Other_Sales  Global_Sales  \n",
       "0         1.991671     12.802935  \n",
       "1         0.394830      7.034163  \n",
       "2         0.408693      4.982552  \n",
       "3         0.394830      7.226880  \n",
       "4         1.493442      8.363113  \n",
       "...            ...           ...  \n",
       "16647     1.087977     13.053204  \n",
       "16648     1.493442      8.878837  \n",
       "16649     1.087977      7.954274  \n",
       "16650     0.394830      3.509168  \n",
       "16651     0.394830      5.132196  \n",
       "\n",
       "[16652 rows x 11 columns]"
      ]
     },
     "execution_count": 12,
     "metadata": {},
     "output_type": "execute_result"
    }
   ],
   "source": [
    "df=pd.read_csv('final_vg.csv')\n",
    "df"
   ]
  },
  {
   "cell_type": "code",
   "execution_count": 14,
   "id": "8bcbb7b8",
   "metadata": {},
   "outputs": [
    {
     "data": {
      "text/plain": [
       "Action          3316\n",
       "Sports          2400\n",
       "Misc            1739\n",
       "Role-Playing    1488\n",
       "Shooter         1310\n",
       "Adventure       1286\n",
       "Racing          1249\n",
       "Platform         886\n",
       "Simulation       867\n",
       "Fighting         848\n",
       "Strategy         681\n",
       "Puzzle           582\n",
       "Name: Genre, dtype: int64"
      ]
     },
     "execution_count": 14,
     "metadata": {},
     "output_type": "execute_result"
    }
   ],
   "source": [
    "df['Genre'].value_counts()"
   ]
  },
  {
   "cell_type": "code",
   "execution_count": 15,
   "id": "b126d9b7",
   "metadata": {},
   "outputs": [
    {
     "data": {
      "text/plain": [
       "Action          3316\n",
       "Sports          2400\n",
       "Misc            1739\n",
       "Role-Playing    1488\n",
       "Shooter         1310\n",
       "Adventure       1286\n",
       "Racing          1249\n",
       "Platform         886\n",
       "Simulation       867\n",
       "Fighting         848\n",
       "Strategy         681\n",
       "Puzzle           582\n",
       "Name: Genre, dtype: int64"
      ]
     },
     "execution_count": 15,
     "metadata": {},
     "output_type": "execute_result"
    }
   ],
   "source": [
    "GCount=df['Genre'].value_counts()\n",
    "GCount"
   ]
  },
  {
   "cell_type": "code",
   "execution_count": 17,
   "id": "9c1c934a",
   "metadata": {},
   "outputs": [],
   "source": [
    "x=GCount.index"
   ]
  },
  {
   "cell_type": "code",
   "execution_count": 18,
   "id": "f953848e",
   "metadata": {},
   "outputs": [],
   "source": [
    "y=GCount"
   ]
  },
  {
   "cell_type": "code",
   "execution_count": 20,
   "id": "74806b6d",
   "metadata": {},
   "outputs": [
    {
     "data": {
      "text/plain": [
       "<BarContainer object of 12 artists>"
      ]
     },
     "execution_count": 20,
     "metadata": {},
     "output_type": "execute_result"
    },
    {
     "data": {
      "image/png": "[encoded data removed]",
      "text/plain": [
       "<Figure size 640x480 with 1 Axes>"
      ]
     },
     "metadata": {},
     "output_type": "display_data"
    }
   ],
   "source": [
    "plt.bar(x,y)"
   ]
  },
  {
   "cell_type": "code",
   "execution_count": null,
   "id": "78cf8c1d",
   "metadata": {},
   "outputs": [],
   "source": []
  }
 ],
 "metadata": {
  "kernelspec": {
   "display_name": "Python 3 (ipykernel)",
   "language": "python",
   "name": "python3"
  },
  "language_info": {
   "codemirror_mode": {
    "name": "ipython",
    "version": 3
   },
   "file_extension": ".py",
   "mimetype": "text/x-python",
   "name": "python",
   "nbconvert_exporter": "python",
   "pygments_lexer": "ipython3",
   "version": "3.9.13"
  }
 },
 "nbformat": 4,
 "nbformat_minor": 5
}
